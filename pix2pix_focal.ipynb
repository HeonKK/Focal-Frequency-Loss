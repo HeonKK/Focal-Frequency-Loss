{
 "cells": [
  {
   "cell_type": "code",
   "execution_count": 1,
   "id": "57b05cf7",
   "metadata": {},
   "outputs": [],
   "source": [
    "import sys"
   ]
  },
  {
   "cell_type": "code",
   "execution_count": 2,
   "id": "bec50646",
   "metadata": {},
   "outputs": [
    {
     "data": {
      "text/plain": [
       "'/home/chuhk/anaconda3/envs/pix2pix/bin/python'"
      ]
     },
     "execution_count": 2,
     "metadata": {},
     "output_type": "execute_result"
    }
   ],
   "source": [
    "sys.executable"
   ]
  },
  {
   "cell_type": "markdown",
   "id": "069353ee",
   "metadata": {},
   "source": [
    "# Focal loss"
   ]
  },
  {
   "cell_type": "code",
   "execution_count": 3,
   "id": "2ce36718",
   "metadata": {},
   "outputs": [],
   "source": [
    "#g, gt 각 16, 3, 5, 96, 96\n",
    "def batch_rgb2gray(img):\n",
    "    r, g, b = img[:, 0], img[:, 1], img[:, 2]\n",
    "    gray = 0.2989 * r + 0.5870 * g + 0.1140 * b\n",
    "    return gray\n",
    "\n",
    "def focal_loss(g, gt):\n",
    "    epsilon = 1e-8\n",
    "    #input : batch_size, channel, Tv, height, width\n",
    "    \n",
    "    alpha = 1\n",
    "\n",
    "    orth_norm_term = np.sqrt(256 * 256)\n",
    "    \n",
    "    fake_gray = batch_rgb2gray(g) # 16, 5, 96, 96\n",
    "\n",
    "    real_gray = batch_rgb2gray(gt) # 16, 5, 96, 96\n",
    "\n",
    "#     real_fft = torch.rfft(real_gray, signal_ndim = 2, onesided = False) # 16, 5, 96, 96, 2\n",
    "\n",
    "#     fake_fft = torch.rfft(fake_gray, signal_ndim = 2, onesided = False) # 16, 5, 96, 96, 2\n",
    "    real_fft = torch.fft.fft2(real_gray) # 16, 5, 96, 96, 2\n",
    "\n",
    "    fake_fft = torch.fft.fft2(fake_gray) # 16, 5, 96, 96, 2\n",
    "\n",
    "    real_fft /= orth_norm_term\n",
    "\n",
    "    fake_fft /= orth_norm_term\n",
    "\n",
    "\n",
    "    x_dist = (real_fft.real - fake_fft.real) ** 2\n",
    "\n",
    "    y_dist = (real_fft.imag - fake_fft.imag) ** 2\n",
    "\n",
    "    distance_matrix = torch.sqrt(x_dist + y_dist + epsilon)\n",
    "\n",
    "    squared_distance = distance_matrix ** 2\n",
    "\n",
    "    weight_matrix = distance_matrix ** alpha\n",
    "    \n",
    "    if torch.min(weight_matrix) == torch.max(weight_matrix):\n",
    "        print(\"min equal max == 0\")\n",
    "\n",
    "    norm_weight_matrix = (weight_matrix - torch.min(weight_matrix)) /  (torch.max(weight_matrix) - torch.min(weight_matrix))\n",
    "\n",
    "    prod = torch.mul(squared_distance, norm_weight_matrix)\n",
    "\n",
    "    FFL = torch.sum(prod) / (256 * 256 * 1)\n",
    "    \n",
    "    return FFL"
   ]
  },
  {
   "cell_type": "code",
   "execution_count": 4,
   "id": "1936bd0c",
   "metadata": {},
   "outputs": [],
   "source": [
    "import torch\n",
    "import numpy as np"
   ]
  },
  {
   "cell_type": "code",
   "execution_count": 5,
   "id": "5494a629",
   "metadata": {},
   "outputs": [
    {
     "data": {
      "text/plain": [
       "'1.9.0+cu102'"
      ]
     },
     "execution_count": 5,
     "metadata": {},
     "output_type": "execute_result"
    }
   ],
   "source": [
    "torch.__version__"
   ]
  },
  {
   "cell_type": "code",
   "execution_count": 6,
   "id": "5a5e2fac",
   "metadata": {},
   "outputs": [],
   "source": [
    "import cv2"
   ]
  },
  {
   "cell_type": "code",
   "execution_count": 7,
   "id": "1a36dc1d",
   "metadata": {},
   "outputs": [],
   "source": [
    "# g = cv2.imread('/home/chuhk/data/vanilla/with_focal_resize64/00000.jpg')\n",
    "g = cv2.imread('/home/chuhk/code/pytorch-CycleGAN-and-pix2pix/fake_imgs/with_focal/22_fake_B.png')\n",
    "g = g / 255.0\n",
    "\n",
    "# g = cv2.imread('/home/chuhk/code/pytorch-CycleGAN-and-pix2pix/checkpoints/without_focal_2/facades_pix2pix/web/images/epoch150_fake_B.png')\n",
    "# g = cv2.imread('/home/chuhk/code/pytorch-CycleGAN-and-pix2pix/checkpoints/focal_shift/facades_pix2pix/web/images/epoch150_fake_B.png')"
   ]
  },
  {
   "cell_type": "code",
   "execution_count": 8,
   "id": "c72d73af",
   "metadata": {},
   "outputs": [],
   "source": [
    "g = torch.tensor(g, dtype = torch.float32)"
   ]
  },
  {
   "cell_type": "code",
   "execution_count": 9,
   "id": "50202d48",
   "metadata": {},
   "outputs": [],
   "source": [
    "g = g.unsqueeze(0)"
   ]
  },
  {
   "cell_type": "code",
   "execution_count": 10,
   "id": "15091aaa",
   "metadata": {},
   "outputs": [],
   "source": [
    "g = torch.transpose(g, 2, 3)\n",
    "g = torch.transpose(g, 1, 2)"
   ]
  },
  {
   "cell_type": "code",
   "execution_count": 11,
   "id": "4051d15e",
   "metadata": {},
   "outputs": [
    {
     "data": {
      "text/plain": [
       "torch.Size([1, 3, 256, 256])"
      ]
     },
     "execution_count": 11,
     "metadata": {},
     "output_type": "execute_result"
    }
   ],
   "source": [
    "g.size()"
   ]
  },
  {
   "cell_type": "code",
   "execution_count": 12,
   "id": "fb1beb37",
   "metadata": {},
   "outputs": [
    {
     "data": {
      "text/plain": [
       "tensor([[[[0.4000, 0.5294, 0.5137,  ..., 0.6980, 0.6902, 0.6431],\n",
       "          [0.2510, 0.2980, 0.4157,  ..., 0.5451, 0.4902, 0.5725],\n",
       "          [0.2314, 0.2314, 0.3020,  ..., 0.2588, 0.2314, 0.2627],\n",
       "          ...,\n",
       "          [0.3725, 0.2784, 0.1804,  ..., 0.3686, 0.3098, 0.2275],\n",
       "          [0.4039, 0.4588, 0.4745,  ..., 0.3490, 0.3373, 0.2667],\n",
       "          [0.5412, 0.6902, 0.7765,  ..., 0.2275, 0.2745, 0.2941]],\n",
       "\n",
       "         [[0.3725, 0.4784, 0.4824,  ..., 0.7137, 0.6902, 0.6745],\n",
       "          [0.2431, 0.2314, 0.3333,  ..., 0.5765, 0.5176, 0.5569],\n",
       "          [0.2235, 0.1686, 0.2510,  ..., 0.3020, 0.2627, 0.2588],\n",
       "          ...,\n",
       "          [0.3922, 0.2863, 0.2039,  ..., 0.2980, 0.2667, 0.2392],\n",
       "          [0.4196, 0.4627, 0.4980,  ..., 0.2784, 0.2784, 0.2745],\n",
       "          [0.5569, 0.6902, 0.7647,  ..., 0.2118, 0.2588, 0.2784]],\n",
       "\n",
       "         [[0.3647, 0.4353, 0.4745,  ..., 0.7216, 0.7059, 0.6667],\n",
       "          [0.2275, 0.2431, 0.4078,  ..., 0.5569, 0.5137, 0.5686],\n",
       "          [0.1922, 0.2000, 0.2745,  ..., 0.2941, 0.2667, 0.2627],\n",
       "          ...,\n",
       "          [0.3961, 0.3216, 0.2196,  ..., 0.3020, 0.2824, 0.2510],\n",
       "          [0.4275, 0.4902, 0.5333,  ..., 0.2745, 0.3020, 0.2706],\n",
       "          [0.5882, 0.7137, 0.7765,  ..., 0.2588, 0.3176, 0.3529]]]],\n",
       "       requires_grad=True)"
      ]
     },
     "execution_count": 12,
     "metadata": {},
     "output_type": "execute_result"
    }
   ],
   "source": [
    "g.requires_grad_()"
   ]
  },
  {
   "cell_type": "code",
   "execution_count": 13,
   "id": "c7d19c28",
   "metadata": {},
   "outputs": [],
   "source": [
    "# gt = cv2.imread('/home/chuhk/data/dtd/test_images/00000.jpg')\n",
    "gt = cv2.imread('/home/chuhk/code/pytorch-CycleGAN-and-pix2pix/fake_imgs/groundtruth/22_real_B.png')\n",
    "gt = gt / 255.0\n",
    "# gt = cv2.imread('/home/chuhk/code/pytorch-CycleGAN-and-pix2pix/checkpoints/focal_shift/facades_pix2pix/web/images/epoch150_real_B.png')"
   ]
  },
  {
   "cell_type": "code",
   "execution_count": 14,
   "id": "098dd3a4",
   "metadata": {},
   "outputs": [],
   "source": [
    "gt = torch.tensor(gt, dtype = torch.float32)\n",
    "# gt = torch.tensor(gt)"
   ]
  },
  {
   "cell_type": "code",
   "execution_count": 15,
   "id": "03277d7a",
   "metadata": {},
   "outputs": [],
   "source": [
    "gt = gt.unsqueeze(0)"
   ]
  },
  {
   "cell_type": "code",
   "execution_count": 16,
   "id": "3318a03b",
   "metadata": {},
   "outputs": [],
   "source": [
    "gt = torch.transpose(gt, 2, 3)\n",
    "gt = torch.transpose(gt, 1, 2)"
   ]
  },
  {
   "cell_type": "code",
   "execution_count": 17,
   "id": "1576b967",
   "metadata": {},
   "outputs": [
    {
     "data": {
      "text/plain": [
       "torch.Size([1, 3, 256, 256])"
      ]
     },
     "execution_count": 17,
     "metadata": {},
     "output_type": "execute_result"
    }
   ],
   "source": [
    "gt.size()"
   ]
  },
  {
   "cell_type": "code",
   "execution_count": 18,
   "id": "54def5db",
   "metadata": {},
   "outputs": [
    {
     "data": {
      "text/plain": [
       "tensor([[[[0.7765, 0.7608, 0.7765,  ..., 0.6000, 0.5882, 0.5882],\n",
       "          [0.6235, 0.5686, 0.5608,  ..., 0.5490, 0.5608, 0.5373],\n",
       "          [0.5725, 0.6706, 0.6824,  ..., 0.7373, 0.7569, 0.7216],\n",
       "          ...,\n",
       "          [0.2157, 0.1294, 0.2039,  ..., 0.0745, 0.0902, 0.1020],\n",
       "          [0.1686, 0.1725, 0.1725,  ..., 0.0627, 0.0667, 0.0549],\n",
       "          [0.1294, 0.1137, 0.1255,  ..., 0.0353, 0.0471, 0.0392]],\n",
       "\n",
       "         [[0.7098, 0.6941, 0.7098,  ..., 0.5765, 0.5647, 0.5647],\n",
       "          [0.5765, 0.5216, 0.5255,  ..., 0.5725, 0.5843, 0.5608],\n",
       "          [0.5725, 0.6706, 0.6824,  ..., 0.8118, 0.8314, 0.7961],\n",
       "          ...,\n",
       "          [0.2078, 0.1333, 0.2078,  ..., 0.0667, 0.0824, 0.0941],\n",
       "          [0.1333, 0.1451, 0.1529,  ..., 0.0627, 0.0667, 0.0549],\n",
       "          [0.0824, 0.0667, 0.0784,  ..., 0.0471, 0.0588, 0.0471]],\n",
       "\n",
       "         [[0.6745, 0.6588, 0.6745,  ..., 0.5961, 0.5843, 0.5843],\n",
       "          [0.5686, 0.5137, 0.5098,  ..., 0.5922, 0.6039, 0.5804],\n",
       "          [0.5961, 0.6941, 0.7059,  ..., 0.8314, 0.8510, 0.8157],\n",
       "          ...,\n",
       "          [0.2039, 0.1255, 0.2000,  ..., 0.0667, 0.0824, 0.0941],\n",
       "          [0.1216, 0.1333, 0.1490,  ..., 0.0627, 0.0667, 0.0549],\n",
       "          [0.0667, 0.0510, 0.0706,  ..., 0.0392, 0.0510, 0.0471]]]],\n",
       "       requires_grad=True)"
      ]
     },
     "execution_count": 18,
     "metadata": {},
     "output_type": "execute_result"
    }
   ],
   "source": [
    "gt.requires_grad_()"
   ]
  },
  {
   "cell_type": "code",
   "execution_count": 16,
   "id": "9f471787",
   "metadata": {},
   "outputs": [],
   "source": [
    "# focal_loss(g, gt)"
   ]
  },
  {
   "cell_type": "markdown",
   "id": "a6c4e0aa",
   "metadata": {},
   "source": [
    "# 3 channel 2D DFT in torch 1.9.0"
   ]
  },
  {
   "cell_type": "code",
   "execution_count": 40,
   "id": "47088d03",
   "metadata": {},
   "outputs": [],
   "source": [
    "#g, gt 각 16, 3, 5, 96, 96\n",
    "def batch_rgb2gray(img):\n",
    "    r, g, b = img[:, 0], img[:, 1], img[:, 2]\n",
    "    gray = 0.2989 * r + 0.5870 * g + 0.1140 * b\n",
    "    return gray\n",
    "\n",
    "# def focal_loss(g, gt)\n",
    "epsilon = 1e-8\n",
    "#input : batch_size, channel, Tv, height, width\n",
    "\n",
    "alpha = 1\n",
    "\n",
    "###\n",
    "# g = batch_rgb2gray(g)\n",
    "# gt = batch_rgb2gray(gt)\n",
    "###\n",
    "\n",
    "\n",
    "fake_fft = torch.fft.fft2(g, norm = 'ortho') # 16, 5, 96, 96, 2\n",
    "fake_fft = torch.fft.fftshift(fake_fft)\n",
    "real_fft = torch.fft.fft2(gt, norm = 'ortho') # 16, 5, 96, 96, 2\n",
    "real_fft = torch.fft.fftshift(real_fft)\n",
    "## torch.fft.fft2(real_gray, norm=\"ortho\") \n",
    "\n",
    "x_dist = (real_fft.real - fake_fft.real) ** 2\n",
    "\n",
    "y_dist = (real_fft.imag - fake_fft.imag) ** 2\n",
    "\n",
    "distance_matrix = torch.sqrt(x_dist + y_dist + epsilon) ## sqrt 계산 후 epsilon을 더해주는 경우의 수\n",
    "\n",
    "squared_distance = distance_matrix ** 2\n",
    "\n",
    "weight_matrix = distance_matrix ** alpha\n",
    "\n",
    "if torch.min(weight_matrix) == torch.max(weight_matrix):\n",
    "    print(\"min equal max == 0\")\n",
    "\n",
    "norm_weight_matrix = (weight_matrix - torch.min(weight_matrix)) /  (torch.max(weight_matrix) - torch.min(weight_matrix))\n",
    "\n",
    "prod = torch.mul(squared_distance, norm_weight_matrix)\n",
    "\n",
    "FFL = torch.sum(prod) / (256 * 256 *3)\n",
    "# FFL = torch.sum(prod) / (256 * 256)\n",
    "\n"
   ]
  },
  {
   "cell_type": "code",
   "execution_count": 18,
   "id": "63fb3be2",
   "metadata": {},
   "outputs": [
    {
     "data": {
      "text/plain": [
       "tensor(816.4343)"
      ]
     },
     "execution_count": 18,
     "metadata": {},
     "output_type": "execute_result"
    }
   ],
   "source": [
    "FFL"
   ]
  },
  {
   "cell_type": "code",
   "execution_count": 20,
   "id": "0c103938",
   "metadata": {},
   "outputs": [],
   "source": [
    "path = './np/1_9_0/'"
   ]
  },
  {
   "cell_type": "code",
   "execution_count": 41,
   "id": "97a339d2",
   "metadata": {},
   "outputs": [],
   "source": [
    "ff = np.fft.fft2(g.detach().cpu().numpy(), norm = 'ortho')\n",
    "ff = np.fft.fftshift(ff)"
   ]
  },
  {
   "cell_type": "code",
   "execution_count": 42,
   "id": "283a8704",
   "metadata": {},
   "outputs": [],
   "source": [
    "rf = np.fft.fft2(gt.detach().cpu().numpy(), norm = 'ortho')\n",
    "rf = np.fft.fftshift(rf)"
   ]
  },
  {
   "cell_type": "code",
   "execution_count": 43,
   "id": "af685d60",
   "metadata": {},
   "outputs": [],
   "source": [
    "x_d = (rf.real - ff.real) ** 2\n",
    "y_d = (rf.imag - ff.imag) ** 2\n",
    "d_m = np.sqrt(x_d + y_d + epsilon)\n",
    "s_d = d_m ** 2\n",
    "w_m = d_m ** alpha\n",
    "\n",
    "n_w_m = (w_m - np.min(w_m)) / (np.max(w_m) - np.min(w_m))\n",
    "\n",
    "p = np.multiply(s_d, n_w_m)\n",
    "ffll = np.sum(p) / (256*256*3)"
   ]
  },
  {
   "cell_type": "code",
   "execution_count": 44,
   "id": "7f02c068",
   "metadata": {},
   "outputs": [
    {
     "data": {
      "text/plain": [
       "0.012127148577525391"
      ]
     },
     "execution_count": 44,
     "metadata": {},
     "output_type": "execute_result"
    }
   ],
   "source": [
    "ffll"
   ]
  },
  {
   "cell_type": "code",
   "execution_count": 45,
   "id": "fd09746c",
   "metadata": {},
   "outputs": [
    {
     "data": {
      "text/plain": [
       "tensor(0.0121, grad_fn=<DivBackward0>)"
      ]
     },
     "execution_count": 45,
     "metadata": {},
     "output_type": "execute_result"
    }
   ],
   "source": [
    "FFL"
   ]
  },
  {
   "cell_type": "code",
   "execution_count": null,
   "id": "d86f2837",
   "metadata": {},
   "outputs": [],
   "source": []
  },
  {
   "cell_type": "markdown",
   "id": "opening-falls",
   "metadata": {},
   "source": [
    "# 1.1.0"
   ]
  },
  {
   "cell_type": "code",
   "execution_count": 49,
   "id": "representative-grounds",
   "metadata": {},
   "outputs": [],
   "source": [
    "gg = batch_rgb2gray(g)"
   ]
  },
  {
   "cell_type": "code",
   "execution_count": 50,
   "id": "disciplinary-seventh",
   "metadata": {},
   "outputs": [
    {
     "data": {
      "text/plain": [
       "torch.Size([1, 64, 64])"
      ]
     },
     "execution_count": 50,
     "metadata": {},
     "output_type": "execute_result"
    }
   ],
   "source": [
    "gg.shape"
   ]
  },
  {
   "cell_type": "code",
   "execution_count": 51,
   "id": "pressed-serum",
   "metadata": {},
   "outputs": [],
   "source": [
    "g_fft = torch.rfft(gg, signal_ndim = 2, onesided =False)"
   ]
  },
  {
   "cell_type": "code",
   "execution_count": 19,
   "id": "important-moment",
   "metadata": {},
   "outputs": [
    {
     "data": {
      "text/plain": [
       "'1.1.0'"
      ]
     },
     "execution_count": 19,
     "metadata": {},
     "output_type": "execute_result"
    }
   ],
   "source": [
    "torch.__version__"
   ]
  },
  {
   "cell_type": "code",
   "execution_count": 55,
   "id": "contained-egypt",
   "metadata": {},
   "outputs": [],
   "source": [
    "torch.save(g_fft, 'torch_110_rfft.pt')"
   ]
  },
  {
   "cell_type": "code",
   "execution_count": 22,
   "id": "japanese-model",
   "metadata": {},
   "outputs": [],
   "source": [
    "asd = torch.load('torch_110_rfft.pt')"
   ]
  },
  {
   "cell_type": "code",
   "execution_count": 25,
   "id": "475caf79",
   "metadata": {},
   "outputs": [
    {
     "data": {
      "text/plain": [
       "torch.Size([1, 64, 64, 2])"
      ]
     },
     "execution_count": 25,
     "metadata": {},
     "output_type": "execute_result"
    }
   ],
   "source": [
    "asd.size()"
   ]
  },
  {
   "cell_type": "markdown",
   "id": "3a867f3e",
   "metadata": {},
   "source": [
    "# check"
   ]
  },
  {
   "cell_type": "code",
   "execution_count": 191,
   "id": "677d4577",
   "metadata": {},
   "outputs": [],
   "source": [
    "import matplotlib.pyplot as plt"
   ]
  },
  {
   "cell_type": "code",
   "execution_count": 208,
   "id": "6f1cec5b",
   "metadata": {},
   "outputs": [],
   "source": [
    "g = cv2.imread('/home/chuhk/code/pytorch-CycleGAN-and-pix2pix/w_focal/22_fake_B.png', 0)"
   ]
  },
  {
   "cell_type": "code",
   "execution_count": 209,
   "id": "f647189d",
   "metadata": {},
   "outputs": [],
   "source": [
    "gt = cv2.imread('/home/chuhk/code/pytorch-CycleGAN-and-pix2pix/groundtruth/22_real_B.png', 0)"
   ]
  },
  {
   "cell_type": "code",
   "execution_count": 210,
   "id": "4cd1643f",
   "metadata": {},
   "outputs": [],
   "source": [
    "# g = cv2.imread('/home/chuhk/data/vanilla/with_focal_resize64/00000.jpg')\n",
    "org = cv2.imread('/home/chuhk/code/pytorch-CycleGAN-and-pix2pix/wo_focal/22_fake_B.png', 0)"
   ]
  },
  {
   "cell_type": "code",
   "execution_count": 211,
   "id": "ba14cb12",
   "metadata": {},
   "outputs": [],
   "source": [
    "g_2 = cv2.imread('/home/chuhk/code/pytorch-CycleGAN-and-pix2pix/w_focal_2/22_fake_B.png', 0)"
   ]
  },
  {
   "cell_type": "code",
   "execution_count": 212,
   "id": "38a855b2",
   "metadata": {},
   "outputs": [],
   "source": [
    "pre = cv2.imread('/home/chuhk/code/pytorch-CycleGAN-and-pix2pix/pretrained/22_fake_B.png', 0)"
   ]
  },
  {
   "cell_type": "code",
   "execution_count": 213,
   "id": "74960703",
   "metadata": {},
   "outputs": [
    {
     "data": {
      "text/plain": [
       "'\\ng : gray scale focal\\ngt : groundtruth\\n\\norg : no additional loss\\ng_2 : color image\\npre : pretrained model\\n'"
      ]
     },
     "execution_count": 213,
     "metadata": {},
     "output_type": "execute_result"
    }
   ],
   "source": [
    "\"\"\"\n",
    "g : gray scale focal\n",
    "gt : groundtruth\n",
    "\n",
    "org : no additional loss\n",
    "g_2 : color image\n",
    "pre : pretrained model\n",
    "\"\"\"\n",
    "\"\"\"\n",
    "pretrained -> pretrained 모델\n",
    "wo_focal -> 기존 loss로 학습\n",
    "w_focal -> gray scale 2D DFT\n",
    "w_focal_2 -> color 2D DFT\n",
    "w_focal3 -> prod.requires_grad_()\n",
    "\n",
    "\n",
    "2_2 -> color 2D 재학습\n",
    "\"\"\""
   ]
  },
  {
   "cell_type": "code",
   "execution_count": 214,
   "id": "05ec2ca8",
   "metadata": {},
   "outputs": [
    {
     "data": {
      "image/png": "[encoded data removed]",
      "text/plain": [
       "<Figure size 432x288 with 2 Axes>"
      ]
     },
     "metadata": {
      "needs_background": "light"
     },
     "output_type": "display_data"
    }
   ],
   "source": [
    "f = np.fft.fft2(g)\n",
    "fshift = np.fft.fftshift(f)\n",
    "mag_spec = 20 * np.log(np.abs(fshift))\n",
    "\n",
    "fig = plt.figure()\n",
    "rows = 1\n",
    "cols = 2\n",
    "\n",
    "ax1 = fig.add_subplot(rows, cols, 1)\n",
    "ax1.imshow(mag_spec)\n",
    "\n",
    "f = np.fft.fft2(gt)\n",
    "fshift = np.fft.fftshift(f)\n",
    "mag_spec = 20 * np.log(np.abs(fshift))\n",
    "\n",
    "ax2 = fig.add_subplot(rows, cols, 2)\n",
    "ax2.imshow(mag_spec)\n",
    "\n",
    "plt.show()"
   ]
  },
  {
   "cell_type": "markdown",
   "id": "35777b0d",
   "metadata": {},
   "source": [
    "# FFT SHIFT"
   ]
  },
  {
   "cell_type": "code",
   "execution_count": 15,
   "id": "ff4c314d",
   "metadata": {},
   "outputs": [],
   "source": [
    "#g, gt 각 16, 3, 5, 96, 96\n",
    "def batch_rgb2gray(img):\n",
    "    r, g, b = img[:, 0], img[:, 1], img[:, 2]\n",
    "    gray = 0.2989 * r + 0.5870 * g + 0.1140 * b\n",
    "    return gray\n",
    "\n",
    "# def focal_loss(g, gt)\n",
    "epsilon = 1e-8\n",
    "#input : batch_size, channel, Tv, height, width\n",
    "\n",
    "alpha = 1\n",
    "\n",
    "###\n",
    "# g = batch_rgb2gray(g)\n",
    "# gt = batch_rgb2gray(gt)\n",
    "###\n",
    "\n",
    "\n",
    "fake_fft = torch.fft.fft2(g, norm = 'ortho') # 16, 5, 96, 96, 2\n",
    "fake_fft = torch.fft.fftshift(fake_fft)\n",
    "\n",
    "real_fft = torch.fft.fft2(gt, norm = 'ortho') # 16, 5, 96, 96, 2\n",
    "real_fft = torch.fft.fftshift(real_fft)\n",
    "\n",
    "## torch.fft.fft2(real_gray, norm=\"ortho\") \n",
    "\n",
    "x_dist = (real_fft.real - fake_fft.real) ** 2\n",
    "\n",
    "y_dist = (real_fft.imag - fake_fft.imag) ** 2\n",
    "\n",
    "distance_matrix = torch.sqrt(x_dist + y_dist + epsilon) ## sqrt 계산 후 epsilon을 더해주는 경우의 수\n",
    "\n",
    "squared_distance = distance_matrix ** 2\n",
    "\n",
    "weight_matrix = distance_matrix ** alpha\n",
    "\n",
    "if torch.min(weight_matrix) == torch.max(weight_matrix):\n",
    "    print(\"min equal max == 0\")\n",
    "\n",
    "norm_weight_matrix = (weight_matrix - torch.min(weight_matrix)) /  (torch.max(weight_matrix) - torch.min(weight_matrix))\n",
    "\n",
    "prod = torch.mul(squared_distance, norm_weight_matrix)\n",
    "\n",
    "# FFL = torch.sum(prod) / (256 * 256 *3)\n",
    "FFL = torch.sum(prod) / (256 * 256 * 3)\n",
    "\n"
   ]
  },
  {
   "cell_type": "code",
   "execution_count": 123,
   "id": "21d8ad41",
   "metadata": {},
   "outputs": [
    {
     "data": {
      "text/plain": [
       "tensor(0.0377)"
      ]
     },
     "execution_count": 123,
     "metadata": {},
     "output_type": "execute_result"
    }
   ],
   "source": [
    "FFL"
   ]
  },
  {
   "cell_type": "markdown",
   "id": "3eb4d751",
   "metadata": {},
   "source": [
    "# Spectral Regularization"
   ]
  },
  {
   "cell_type": "code",
   "execution_count": null,
   "id": "1b6268e1",
   "metadata": {},
   "outputs": [],
   "source": [
    "import torch.nn as nn\n",
    "from torch.autograd import Variable"
   ]
  },
  {
   "cell_type": "code",
   "execution_count": null,
   "id": "789e51d0",
   "metadata": {},
   "outputs": [],
   "source": [
    "def azimuthalAverage(image, center=None):\n",
    "    \"\"\"\n",
    "    Calculate the azimuthally averaged radial profile.\n",
    "    image - The 2D image\n",
    "    center - The [x,y] pixel coordinates used as the center. The default is \n",
    "             None, which then uses the center of the image (including \n",
    "             fracitonal pixels).\n",
    "    \n",
    "    \"\"\"\n",
    "    # Calculate the indices from the image\n",
    "    y, x = np.indices(image.shape)\n",
    "\n",
    "    if not center:\n",
    "        center = np.array([(x.max()-x.min())/2.0, (y.max()-y.min())/2.0])\n",
    "\n",
    "    r = np.hypot(x - center[0], y - center[1])\n",
    "\n",
    "    # Get sorted radii\n",
    "    ind = np.argsort(r.flat)\n",
    "    r_sorted = r.flat[ind]\n",
    "    i_sorted = image.flat[ind]\n",
    "\n",
    "    # Get the integer part of the radii (bin size = 1)\n",
    "    r_int = r_sorted.astype(int)\n",
    "\n",
    "    # Find all pixels that fall within each radial bin.\n",
    "    deltar = r_int[1:] - r_int[:-1]  # Assumes all radii represented\n",
    "    rind = np.where(deltar)[0]       # location of changed radius\n",
    "    nr = rind[1:] - rind[:-1]        # number of radius bin\n",
    "    \n",
    "    # Cumulative sum to figure out sums for each radius bin\n",
    "    csim = np.cumsum(i_sorted, dtype=float)\n",
    "    tbin = csim[rind[1:]] - csim[rind[:-1]]\n",
    "\n",
    "    radial_prof = tbin / nr\n",
    "\n",
    "    return radial_prof"
   ]
  },
  {
   "cell_type": "code",
   "execution_count": null,
   "id": "c40e0076",
   "metadata": {},
   "outputs": [],
   "source": [
    "def RGB2gray(img):\n",
    "    r, g, b = img[0], img[1], img[2]\n",
    "    gray = 0.2989 * r + 0.5870 * g + 0.1140 * b\n",
    "    return gray"
   ]
  },
  {
   "cell_type": "code",
   "execution_count": null,
   "id": "355d2c79",
   "metadata": {},
   "outputs": [],
   "source": [
    "## Generate image 1D power spectrum\n",
    "def cal_freq_loss(x_fake, x_real):\n",
    "    #input : batch, channel, Tv, height, width\n",
    "    criterion_freq = nn.BCELoss()\n",
    "    t = 1 # 16\n",
    "    N = 179\n",
    "    epsilon = 1e-8\n",
    "    \n",
    "    psd1D_img = np.zeros([x_fake.shape[0], N])\n",
    "\n",
    "    #temp_Tv_img = np.zeros([x_fake.shape[1], N])\n",
    "\n",
    "    for t in range(x_fake.shape[0]):gf * 8, ngf\n",
    "\n",
    "        temp_Tv_img = np.zeros([x_fake.shape[1], N])\n",
    "\n",
    "        gen_imgs = x_fake.permute(0, 1, 2, 3) # B * Tv * H * W * C\n",
    "\n",
    "        # for u in range(gen_imgs.shape[1]):\n",
    "        img_numpy = gen_imgs[t, :, :, :].cpu().detach().numpy()\n",
    "        img_gray = RGB2gray(img_numpy)\n",
    "        fft = np.fft.fft2(img_gray)\n",
    "        fshift = np.fft.fftshift(fft)\n",
    "        fshift += epsilon\n",
    "        magnitude_spectrum = 20 * np.log(np.abs(fshift))\n",
    "        psd1D = azimuthalAverage(magnitude_spectrum)\n",
    "        #normalization -> [0, 1]\n",
    "        psd1D = (psd1D-np.min(psd1D))/(np.max(psd1D)-np.min(psd1D))\n",
    "        # temp_Tv_img[0, :] = psd1D # 5, 66\n",
    "\n",
    "        # avg_Tv = np.average(temp_Tv_img, axis = 0)\n",
    "        psd1D_img[t, :] = psd1D # 16, 66\n",
    "\n",
    "\n",
    "    psd1D_img = torch.from_numpy(psd1D_img).float()\n",
    "    psd1D_img = Variable(psd1D_img, requires_grad = True)\n",
    "\n",
    "    ## Ground truth image 1D power spectrum\n",
    "\n",
    "    psd1D_gt = np.zeros([x_real.shape[0], N])\n",
    "\n",
    "    for t in range(x_real.shape[0]):\n",
    "\n",
    "        temp_Tv_gt = np.zeros([x_real.shape[1], N])\n",
    "\n",
    "        gen_imgs = x_real.permute(0, 1, 2, 3) # B * Tv * H * W * C\n",
    "\n",
    "        # for u in range(gen_imgs.shape[1]):\n",
    "        img_numpy = gen_imgs[t, :, :, :].cpu().detach().numpy()\n",
    "        img_gray = RGB2gray(img_numpy)\n",
    "        fft = np.fft.fft2(img_gray)\n",
    "        fshift = np.fft.fftshift(fft)\n",
    "        fshift += epsilon\n",
    "        magnitude_spectrum = 20 * np.log(np.abs(fshift))\n",
    "        psd1D = azimuthalAverage(magnitude_spectrum)\n",
    "        #normalization -> [0, 1]\n",
    "        psd1D = (psd1D-np.min(psd1D))/(np.max(psd1D)-np.min(psd1D))\n",
    "        # temp_Tv_gt[0, :] = psd1D\n",
    "\n",
    "        # avg_Tv = np.average(temp_Tv_gt, axis = 0)\n",
    "        psd1D_gt[t, :] = psd1D\n",
    "\n",
    "\n",
    "    psd1D_gt = torch.from_numpy(psd1D_gt).float()\n",
    "    psd1D_gt = Variable(psd1D_gt, requires_grad = True)\n",
    "\n",
    "\n",
    "    loss_freq = criterion_freq(psd1D_gt, psd1D_img.detach())\n",
    "    \n",
    "    return loss_freq, psd1D_gt, psd1D_img"
   ]
  },
  {
   "cell_type": "code",
   "execution_count": null,
   "id": "5ef53621",
   "metadata": {},
   "outputs": [],
   "source": []
  },
  {
   "cell_type": "code",
   "execution_count": 29,
   "id": "03791549",
   "metadata": {},
   "outputs": [
    {
     "data": {
      "text/plain": [
       "torch.Size([1, 3, 256, 129])"
      ]
     },
     "execution_count": 29,
     "metadata": {},
     "output_type": "execute_result"
    }
   ],
   "source": [
    "torch.fft.rfft2(g).shape"
   ]
  },
  {
   "cell_type": "code",
   "execution_count": null,
   "id": "69f23de8",
   "metadata": {},
   "outputs": [],
   "source": []
  }
 ],
 "metadata": {
  "kernelspec": {
   "display_name": "Python 3 (ipykernel)",
   "language": "python",
   "name": "python3"
  },
  "language_info": {
   "codemirror_mode": {
    "name": "ipython",
    "version": 3
   },
   "file_extension": ".py",
   "mimetype": "text/x-python",
   "name": "python",
   "nbconvert_exporter": "python",
   "pygments_lexer": "ipython3",
   "version": "3.7.10"
  }
 },
 "nbformat": 4,
 "nbformat_minor": 5
}
